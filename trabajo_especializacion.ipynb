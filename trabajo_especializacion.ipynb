{
 "cells": [
  {
   "cell_type": "code",
   "execution_count": 24,
   "metadata": {},
   "outputs": [],
   "source": [
    "# https://www.kaggle.com/datasets/trolukovich/apparel-images-dataset/data\n",
    "# link al dataset "
   ]
  },
  {
   "cell_type": "code",
   "execution_count": 25,
   "metadata": {},
   "outputs": [],
   "source": [
    "#librerías instaladas en el entorno virtual\n",
    "\n",
    "# !pip install tensorflow\n",
    "# !pip install tensorflow-datasets"
   ]
  },
  {
   "cell_type": "code",
   "execution_count": 26,
   "metadata": {},
   "outputs": [],
   "source": [
    "#librerías de python importadas\n",
    "\n",
    "# generales \n",
    "\n",
    "import numpy as np\n",
    "import pandas as pd\n",
    "import tensorflow as tf\n",
    "from tensorflow import keras\n",
    "\n",
    "\n",
    "# preprocess\n",
    "from keras.applications.vgg16 import preprocess_input\n",
    "from tensorflow.keras.utils  import load_img\n",
    "from tensorflow.keras.utils import img_to_array\n",
    "import sklearn as sk\n",
    "from sklearn.model_selection import train_test_split\n",
    "\n",
    "# models\n",
    "from keras.applications.vgg16 import VGG16\n",
    "from keras.models import Model\n",
    "\n",
    "# clustering and dimension reduction\n",
    "from sklearn.cluster import KMeans\n",
    "from sklearn.decomposition import PCA\n",
    "\n",
    "# for everything else\n",
    "import os\n",
    "import numpy as np\n",
    "import matplotlib.pyplot as plt\n",
    "from random import randint\n",
    "import pandas as pd\n",
    "#import pickle"
   ]
  },
  {
   "cell_type": "markdown",
   "metadata": {},
   "source": [
    "## Configuracion previa hardware"
   ]
  },
  {
   "cell_type": "code",
   "execution_count": 27,
   "metadata": {},
   "outputs": [
    {
     "name": "stdout",
     "output_type": "stream",
     "text": [
      "1 GPU(s) físicas, 1 GPU(s) lógicas\n"
     ]
    }
   ],
   "source": [
    "import tensorflow as tf\n",
    "\n",
    "gpus = tf.config.list_physical_devices('GPU')\n",
    "if gpus:\n",
    "    try:\n",
    "        # 7 GB = 7 * 1024 MB = 7168 MB\n",
    "        tf.config.set_logical_device_configuration(\n",
    "            gpus[0],\n",
    "            [tf.config.LogicalDeviceConfiguration(memory_limit=7168)]\n",
    "        )\n",
    "        logical_gpus = tf.config.list_logical_devices('GPU')\n",
    "        print(len(gpus), \"GPU(s) físicas,\", len(logical_gpus), \"GPU(s) lógicas\")\n",
    "    except RuntimeError as e:\n",
    "        print(e)\n"
   ]
  },
  {
   "cell_type": "markdown",
   "metadata": {},
   "source": [
    "## Preprocessing CASIA 2.0 Image Tampering Detection Dataset"
   ]
  },
  {
   "cell_type": "code",
   "execution_count": 28,
   "metadata": {},
   "outputs": [],
   "source": [
    "path_general = r\"D:\\1_data_science\\trabajo_especializacion_datasets\\Apparel_images_dataset\"\n",
    "list_dir_pg = os.listdir(path_general)\n",
    "#armo diccionario de las clases y las imágenes\n",
    "dicc_imgs = {}\n",
    "for i in list_dir_pg:\n",
    "    path = os.path.join(path_general, i)\n",
    "    list_dir = os.listdir(path)\n",
    "    dicc_imgs[i] = list_dir\n",
    "#Me fijo los formatos únicos para cada clase, todos son jpg.\n",
    "dicc_formatos = {}\n",
    "for x in dicc_imgs.keys():\n",
    "    formato = set([i.split(\".\")[-1] for i in dicc_imgs[x]])\n",
    "    dicc_formatos[x] = formato"
   ]
  },
  {
   "cell_type": "code",
   "execution_count": 29,
   "metadata": {},
   "outputs": [],
   "source": [
    "#diccionario labels\n",
    "dicc_labels = {}\n",
    "for i, clase in enumerate (dicc_imgs.keys()):\n",
    "    dicc_labels[clase] = i"
   ]
  },
  {
   "cell_type": "code",
   "execution_count": 30,
   "metadata": {},
   "outputs": [],
   "source": [
    "def cargar_imagen(img_path):\n",
    "    try:\n",
    "        # Cargar la imagen y redimensionarla\n",
    "        img = load_img(img_path, target_size=(224, 224))\n",
    "        # Convertir la imagen a un array\n",
    "        img_array = np.array(img)\n",
    "        # Reorganizar las dimensiones correctamente\n",
    "        reshaped_img_array = img_array.reshape(1, 224, 224, 3)\n",
    "        # Preprocesar la imagen\n",
    "        preprocessed_img = preprocess_input(reshaped_img_array)\n",
    "        return preprocessed_img\n",
    "    except Exception as e:\n",
    "        print(f\"Error procesando la imagen {img_path}: {e}\")\n",
    "        return None\n",
    "\n",
    "def dataset_builder(dataset_path):\n",
    "    dataset = {}\n",
    "    valid_formats = {\".jpg\", \".jpeg\", \".tif\", \".bmp\", \".png\"}\n",
    "    \n",
    "    # Itera por las carpetas de la ruta al dataset\n",
    "    for class_folder in os.listdir(dataset_path):\n",
    "        dataset[class_folder] = []\n",
    "        class_path = os.path.join(dataset_path, class_folder)\n",
    "        for img in os.listdir(class_path):\n",
    "            img_path = os.path.join(class_path, img)\n",
    "            _, img_format = os.path.splitext(img_path)\n",
    "            if img_format.lower() in valid_formats:\n",
    "                preprocessed_img = cargar_imagen(img_path)\n",
    "                if preprocessed_img is not None:  # Validar si se procesó correctamente\n",
    "                    dataset[class_folder].append(preprocessed_img)\n",
    "                    \n",
    "    return dataset\n",
    "    "
   ]
  },
  {
   "cell_type": "code",
   "execution_count": null,
   "metadata": {},
   "outputs": [
    {
     "name": "stdout",
     "output_type": "stream",
     "text": [
      "largo de X 5688 largo de Y 5688\n",
      "largo de X_train 3981 largo de y_train 3981\n",
      "largo de X_test 1707 largo de y_test 1707\n"
     ]
    }
   ],
   "source": [
    "#Armo los vectores X e Y para el entrenamiento y prueba\n",
    "def armar_vectores(dicc_preproceded_imgs, dicc_labels):\n",
    "        \n",
    "    X = []\n",
    "    Y = []\n",
    "    for indice in dicc_preproceded_imgs.keys():\n",
    "        clase = dicc_preproceded_imgs[indice]\n",
    "        label = dicc_labels[indice]\n",
    "        largo_clase = len(clase)//2\n",
    "        largo_label = len(clase)//2\n",
    "        clase = clase[:largo_clase]\n",
    "        label = label\n",
    "        \n",
    "        for img in clase:\n",
    "            X.append(img)\n",
    "            Y.append(label)\n",
    "\n",
    "    print (\"largo de X\", len(X), \"largo de Y\", len(Y))\n",
    "\n",
    "    X_train, X_test, y_train, y_test = train_test_split(X, Y, test_size=0.3, random_state=42, stratify=Y)\n",
    "\n",
    "    print (\"largo de X_train\", len(X_train), \"largo de y_train\", len(y_train))\n",
    "    print (\"largo de X_test\", len(X_test), \"largo de y_test\", len(y_test))\n",
    "    X_train = np.vstack(X_train)  # Convierte la lista en un array de NumPy\n",
    "    X_test = np.vstack(X_test)\n",
    "    y_train = np.array(y_train)\n",
    "    y_test = np.array(y_test)\n",
    "\n",
    "    return X_train, X_test, y_train, y_test"
   ]
  },
  {
   "cell_type": "code",
   "execution_count": 35,
   "metadata": {},
   "outputs": [],
   "source": [
    "dicc_preproceded_imgs = dataset_builder(path_general)\n",
    "X_train, X_test, y_train, y_test = armar_vectores(dicc_preproceded_imgs, dicc_labels)"
   ]
  },
  {
   "cell_type": "markdown",
   "metadata": {},
   "source": [
    "## Definiendo la Arquitectura de la VGG16"
   ]
  },
  {
   "cell_type": "code",
   "execution_count": 38,
   "metadata": {},
   "outputs": [],
   "source": [
    "def entrenar_modelo_inicial(dicc_labels, X_train, X_test, y_train, y_test):\n",
    "    model = VGG16()\n",
    "    categories = len(dicc_labels.keys()) # 24 clases del diccionario de labels\n",
    "    #elijo las layers que conservo y las freezo para no modficarlas en el training\n",
    "    input = (224, 224)\n",
    "    model = Model(inputs = model.inputs, outputs = model.layers[-2].output)\n",
    "\n",
    "    for layer in model.layers:\n",
    "        layer.trainable = False\n",
    "    # creo nueva capa para clasificar y la agrego al modelo final\n",
    "    nueva_dense = tf.keras.layers.Dense (categories, activation = 'softmax')\n",
    "    model_final = Model(inputs = model.inputs, outputs = nueva_dense(model.output))\n",
    "    model_final.compile(optimizer='adam', loss=\"sparse_categorical_crossentropy\", metrics=['accuracy'])\n",
    "    history = model_final.fit(X_train[0:3000], y_train[0:3000], validation_data=(X_test[0:3000], y_test[0:3000]), epochs=10, batch_size=8)\n",
    "    score = model_final.evaluate(X_test[0:3000],  y_test[0:3000], verbose=0)\n",
    "    model.save(\"modelo_inicial.h5\")\n",
    "    return history, score\n",
    "    "
   ]
  },
  {
   "cell_type": "code",
   "execution_count": null,
   "metadata": {},
   "outputs": [],
   "source": [
    "history, score = entrenar_modelo_inicial(dicc_labels=dicc_labels, X_train=X_train, X_test=X_test, y_train=y_train, y_test=y_test)"
   ]
  },
  {
   "cell_type": "code",
   "execution_count": 39,
   "metadata": {},
   "outputs": [],
   "source": [
    "def graficar_modelo(history, score):\n",
    "    print(\"Test loss:\", score[0])\n",
    "    print(\"Test accuracy:\", score[1])\n",
    "    plt.plot(history.history['accuracy'], label='accuracy')\n",
    "    plt.plot(history.history['val_accuracy'], label = 'val_accuracy')\n",
    "    plt.xlabel('Epoch')\n",
    "    plt.ylabel('Accuracy')\n",
    "    plt.ylim([0, 1])\n",
    "    plt.legend(loc='lower right')\n",
    "    plt.show()\n",
    "    plt.plot(history.history['loss'], label='loss')\n",
    "    plt.plot(history.history['val_loss'], label = 'val_loss')\n",
    "    plt.xlabel('Epoch')\n",
    "    plt.ylabel('Loss')\n",
    "    plt.ylim([0, 1])\n",
    "    plt.legend(loc='lower right')\n",
    "    plt.show()\n",
    "def graficar_modelo2(history, score):\n",
    "    fig,ax = plt.subplots(1,1)\n",
    "    ax.set_xlabel('epoch') ; ax.set_ylabel('Categorical Crossentropy Loss')\n",
    "    x = list(range(1,10+1))\n",
    "    vy = history.history['val_loss']\n",
    "    ty = history.history['loss']\n",
    "    ax.plot(x, vy, 'b', label=\"Validation Loss\")\n",
    "    ax.plot(x, ty, 'r', label=\"Train Loss\")\n",
    "    plt.legend()\n",
    "    plt.grid()\n",
    "    plt.show()\n",
    "    score = model_final.evaluate(X_test[0:3000],  y_test[0:3000], verbose=0)\n",
    "    print('Test loss:', score[0])\n",
    "    print('Test accuracy:', score[1])"
   ]
  },
  {
   "cell_type": "markdown",
   "metadata": {},
   "source": [
    "## Fine-tuning"
   ]
  },
  {
   "cell_type": "code",
   "execution_count": 21,
   "metadata": {},
   "outputs": [
    {
     "name": "stdout",
     "output_type": "stream",
     "text": [
      "<keras.engine.input_layer.InputLayer object at 0x0000029E5085EB90> False\n",
      "<keras.layers.convolutional.conv2d.Conv2D object at 0x0000029E5085F7C0> False\n",
      "<keras.layers.convolutional.conv2d.Conv2D object at 0x0000029E43D3DE70> False\n",
      "<keras.layers.pooling.max_pooling2d.MaxPooling2D object at 0x0000029E5085D810> False\n",
      "<keras.layers.convolutional.conv2d.Conv2D object at 0x0000029E5085F3D0> False\n",
      "<keras.layers.convolutional.conv2d.Conv2D object at 0x0000029E7F63D630> False\n",
      "<keras.layers.pooling.max_pooling2d.MaxPooling2D object at 0x0000029E7F63E3B0> False\n",
      "<keras.layers.convolutional.conv2d.Conv2D object at 0x0000029E7F63DFF0> False\n",
      "<keras.layers.convolutional.conv2d.Conv2D object at 0x0000029E7F63D1B0> False\n",
      "<keras.layers.convolutional.conv2d.Conv2D object at 0x0000029E7F63FD60> False\n",
      "<keras.layers.pooling.max_pooling2d.MaxPooling2D object at 0x0000029E7F63EC20> False\n",
      "<keras.layers.convolutional.conv2d.Conv2D object at 0x0000029E7F63F910> False\n",
      "<keras.layers.convolutional.conv2d.Conv2D object at 0x0000029E7F65A080> False\n",
      "<keras.layers.convolutional.conv2d.Conv2D object at 0x0000029E7F65AA40> False\n",
      "<keras.layers.pooling.max_pooling2d.MaxPooling2D object at 0x0000029E7F65A8C0> False\n",
      "<keras.layers.convolutional.conv2d.Conv2D object at 0x0000029E7F65B9A0> False\n",
      "<keras.layers.convolutional.conv2d.Conv2D object at 0x0000029E7F65BE50> False\n",
      "<keras.layers.convolutional.conv2d.Conv2D object at 0x0000029E7F659D50> False\n",
      "<keras.layers.pooling.max_pooling2d.MaxPooling2D object at 0x0000029E7F66DA50> False\n",
      "<keras.layers.reshaping.flatten.Flatten object at 0x0000029E7F66C100> True\n",
      "<keras.layers.core.dense.Dense object at 0x0000029E7F66F820> True\n",
      "<keras.layers.core.dense.Dense object at 0x0000029E7F66EFB0> True\n"
     ]
    }
   ],
   "source": [
    "def entrenar_modelo_fine_tuned(dicc_labels, X_train, X_test, y_train, y_test):\n",
    "\n",
    "    model = load_model('initial_model.h5')\n",
    "\n",
    "    for layer in model.layers[:-3]:\n",
    "        layer.trainable = False\n",
    "    for layer in model.layers[-3:]:\n",
    "        layer.trainable = True\n",
    "    for layer in model.layers:\n",
    "        print(layer, layer.trainable)\n",
    "    model.compile(optimizer=tf.keras.optimizers.Adam(learning_rate=1e-4), loss=\"sparse_categorical_crossentropy\", metrics=['accuracy'])\n",
    "    history = model.fit(X_train[0:3000], y_train[0:3000], validation_data=(X_test[0:3000], y_test[0:3000]), epochs=10, batch_size=8)\n",
    "    score = model_final.evaluate(X_test[0:3000],  y_test[0:3000], verbose=0)\n",
    "    return history , score\n",
    "    "
   ]
  },
  {
   "cell_type": "code",
   "execution_count": 22,
   "metadata": {},
   "outputs": [],
   "source": [
    "model_final.compile(optimizer=tf.keras.optimizers.Adam(learning_rate=1e-4), loss=\"sparse_categorical_crossentropy\", metrics=['accuracy'])"
   ]
  },
  {
   "cell_type": "code",
   "execution_count": 23,
   "metadata": {},
   "outputs": [
    {
     "name": "stdout",
     "output_type": "stream",
     "text": [
      "Epoch 1/10\n",
      "375/375 [==============================] - 34s 89ms/step - loss: 1.7611 - accuracy: 0.6797 - val_loss: 0.8521 - val_accuracy: 0.7827\n",
      "Epoch 2/10\n"
     ]
    },
    {
     "ename": "ResourceExhaustedError",
     "evalue": "Graph execution error:\n\nDetected at node 'gradient_tape/model_1/fc1/MatMul/MatMul_1' defined at (most recent call last):\n    File \"c:\\Users\\Admin\\anaconda3\\envs\\tensorgpu\\lib\\runpy.py\", line 196, in _run_module_as_main\n      return _run_code(code, main_globals, None,\n    File \"c:\\Users\\Admin\\anaconda3\\envs\\tensorgpu\\lib\\runpy.py\", line 86, in _run_code\n      exec(code, run_globals)\n    File \"c:\\Users\\Admin\\anaconda3\\envs\\tensorgpu\\lib\\site-packages\\ipykernel_launcher.py\", line 18, in <module>\n      app.launch_new_instance()\n    File \"c:\\Users\\Admin\\anaconda3\\envs\\tensorgpu\\lib\\site-packages\\traitlets\\config\\application.py\", line 1075, in launch_instance\n      app.start()\n    File \"c:\\Users\\Admin\\anaconda3\\envs\\tensorgpu\\lib\\site-packages\\ipykernel\\kernelapp.py\", line 739, in start\n      self.io_loop.start()\n    File \"c:\\Users\\Admin\\anaconda3\\envs\\tensorgpu\\lib\\site-packages\\tornado\\platform\\asyncio.py\", line 205, in start\n      self.asyncio_loop.run_forever()\n    File \"c:\\Users\\Admin\\anaconda3\\envs\\tensorgpu\\lib\\asyncio\\base_events.py\", line 603, in run_forever\n      self._run_once()\n    File \"c:\\Users\\Admin\\anaconda3\\envs\\tensorgpu\\lib\\asyncio\\base_events.py\", line 1909, in _run_once\n      handle._run()\n    File \"c:\\Users\\Admin\\anaconda3\\envs\\tensorgpu\\lib\\asyncio\\events.py\", line 80, in _run\n      self._context.run(self._callback, *self._args)\n    File \"c:\\Users\\Admin\\anaconda3\\envs\\tensorgpu\\lib\\site-packages\\ipykernel\\kernelbase.py\", line 545, in dispatch_queue\n      await self.process_one()\n    File \"c:\\Users\\Admin\\anaconda3\\envs\\tensorgpu\\lib\\site-packages\\ipykernel\\kernelbase.py\", line 534, in process_one\n      await dispatch(*args)\n    File \"c:\\Users\\Admin\\anaconda3\\envs\\tensorgpu\\lib\\site-packages\\ipykernel\\kernelbase.py\", line 437, in dispatch_shell\n      await result\n    File \"c:\\Users\\Admin\\anaconda3\\envs\\tensorgpu\\lib\\site-packages\\ipykernel\\ipkernel.py\", line 362, in execute_request\n      await super().execute_request(stream, ident, parent)\n    File \"c:\\Users\\Admin\\anaconda3\\envs\\tensorgpu\\lib\\site-packages\\ipykernel\\kernelbase.py\", line 778, in execute_request\n      reply_content = await reply_content\n    File \"c:\\Users\\Admin\\anaconda3\\envs\\tensorgpu\\lib\\site-packages\\ipykernel\\ipkernel.py\", line 449, in do_execute\n      res = shell.run_cell(\n    File \"c:\\Users\\Admin\\anaconda3\\envs\\tensorgpu\\lib\\site-packages\\ipykernel\\zmqshell.py\", line 549, in run_cell\n      return super().run_cell(*args, **kwargs)\n    File \"c:\\Users\\Admin\\anaconda3\\envs\\tensorgpu\\lib\\site-packages\\IPython\\core\\interactiveshell.py\", line 3075, in run_cell\n      result = self._run_cell(\n    File \"c:\\Users\\Admin\\anaconda3\\envs\\tensorgpu\\lib\\site-packages\\IPython\\core\\interactiveshell.py\", line 3130, in _run_cell\n      result = runner(coro)\n    File \"c:\\Users\\Admin\\anaconda3\\envs\\tensorgpu\\lib\\site-packages\\IPython\\core\\async_helpers.py\", line 128, in _pseudo_sync_runner\n      coro.send(None)\n    File \"c:\\Users\\Admin\\anaconda3\\envs\\tensorgpu\\lib\\site-packages\\IPython\\core\\interactiveshell.py\", line 3334, in run_cell_async\n      has_raised = await self.run_ast_nodes(code_ast.body, cell_name,\n    File \"c:\\Users\\Admin\\anaconda3\\envs\\tensorgpu\\lib\\site-packages\\IPython\\core\\interactiveshell.py\", line 3517, in run_ast_nodes\n      if await self.run_code(code, result, async_=asy):\n    File \"c:\\Users\\Admin\\anaconda3\\envs\\tensorgpu\\lib\\site-packages\\IPython\\core\\interactiveshell.py\", line 3577, in run_code\n      exec(code_obj, self.user_global_ns, self.user_ns)\n    File \"C:\\Users\\Admin\\AppData\\Local\\Temp\\ipykernel_10056\\963183320.py\", line 1, in <module>\n      history = model_final.fit(X_train[0:3000], y_train[0:3000], validation_data=(X_test[0:3000], y_test[0:3000]), epochs=10, batch_size=8)\n    File \"c:\\Users\\Admin\\anaconda3\\envs\\tensorgpu\\lib\\site-packages\\keras\\utils\\traceback_utils.py\", line 65, in error_handler\n      return fn(*args, **kwargs)\n    File \"c:\\Users\\Admin\\anaconda3\\envs\\tensorgpu\\lib\\site-packages\\keras\\engine\\training.py\", line 1564, in fit\n      tmp_logs = self.train_function(iterator)\n    File \"c:\\Users\\Admin\\anaconda3\\envs\\tensorgpu\\lib\\site-packages\\keras\\engine\\training.py\", line 1160, in train_function\n      return step_function(self, iterator)\n    File \"c:\\Users\\Admin\\anaconda3\\envs\\tensorgpu\\lib\\site-packages\\keras\\engine\\training.py\", line 1146, in step_function\n      outputs = model.distribute_strategy.run(run_step, args=(data,))\n    File \"c:\\Users\\Admin\\anaconda3\\envs\\tensorgpu\\lib\\site-packages\\keras\\engine\\training.py\", line 1135, in run_step\n      outputs = model.train_step(data)\n    File \"c:\\Users\\Admin\\anaconda3\\envs\\tensorgpu\\lib\\site-packages\\keras\\engine\\training.py\", line 997, in train_step\n      self.optimizer.minimize(loss, self.trainable_variables, tape=tape)\n    File \"c:\\Users\\Admin\\anaconda3\\envs\\tensorgpu\\lib\\site-packages\\keras\\optimizers\\optimizer_v2\\optimizer_v2.py\", line 576, in minimize\n      grads_and_vars = self._compute_gradients(\n    File \"c:\\Users\\Admin\\anaconda3\\envs\\tensorgpu\\lib\\site-packages\\keras\\optimizers\\optimizer_v2\\optimizer_v2.py\", line 634, in _compute_gradients\n      grads_and_vars = self._get_gradients(\n    File \"c:\\Users\\Admin\\anaconda3\\envs\\tensorgpu\\lib\\site-packages\\keras\\optimizers\\optimizer_v2\\optimizer_v2.py\", line 510, in _get_gradients\n      grads = tape.gradient(loss, var_list, grad_loss)\nNode: 'gradient_tape/model_1/fc1/MatMul/MatMul_1'\nOOM when allocating tensor with shape[25088,4096] and type float on /job:localhost/replica:0/task:0/device:GPU:0 by allocator GPU_0_bfc\n\t [[{{node gradient_tape/model_1/fc1/MatMul/MatMul_1}}]]\nHint: If you want to see a list of allocated tensors when OOM happens, add report_tensor_allocations_upon_oom to RunOptions for current allocation info. This isn't available when running in Eager mode.\n [Op:__inference_train_function_26588]",
     "output_type": "error",
     "traceback": [
      "\u001b[1;31m---------------------------------------------------------------------------\u001b[0m",
      "\u001b[1;31mResourceExhaustedError\u001b[0m                    Traceback (most recent call last)",
      "Cell \u001b[1;32mIn[23], line 1\u001b[0m\n\u001b[1;32m----> 1\u001b[0m history \u001b[38;5;241m=\u001b[39m \u001b[43mmodel_final\u001b[49m\u001b[38;5;241;43m.\u001b[39;49m\u001b[43mfit\u001b[49m\u001b[43m(\u001b[49m\u001b[43mX_train\u001b[49m\u001b[43m[\u001b[49m\u001b[38;5;241;43m0\u001b[39;49m\u001b[43m:\u001b[49m\u001b[38;5;241;43m3000\u001b[39;49m\u001b[43m]\u001b[49m\u001b[43m,\u001b[49m\u001b[43m \u001b[49m\u001b[43my_train\u001b[49m\u001b[43m[\u001b[49m\u001b[38;5;241;43m0\u001b[39;49m\u001b[43m:\u001b[49m\u001b[38;5;241;43m3000\u001b[39;49m\u001b[43m]\u001b[49m\u001b[43m,\u001b[49m\u001b[43m \u001b[49m\u001b[43mvalidation_data\u001b[49m\u001b[38;5;241;43m=\u001b[39;49m\u001b[43m(\u001b[49m\u001b[43mX_test\u001b[49m\u001b[43m[\u001b[49m\u001b[38;5;241;43m0\u001b[39;49m\u001b[43m:\u001b[49m\u001b[38;5;241;43m3000\u001b[39;49m\u001b[43m]\u001b[49m\u001b[43m,\u001b[49m\u001b[43m \u001b[49m\u001b[43my_test\u001b[49m\u001b[43m[\u001b[49m\u001b[38;5;241;43m0\u001b[39;49m\u001b[43m:\u001b[49m\u001b[38;5;241;43m3000\u001b[39;49m\u001b[43m]\u001b[49m\u001b[43m)\u001b[49m\u001b[43m,\u001b[49m\u001b[43m \u001b[49m\u001b[43mepochs\u001b[49m\u001b[38;5;241;43m=\u001b[39;49m\u001b[38;5;241;43m10\u001b[39;49m\u001b[43m,\u001b[49m\u001b[43m \u001b[49m\u001b[43mbatch_size\u001b[49m\u001b[38;5;241;43m=\u001b[39;49m\u001b[38;5;241;43m8\u001b[39;49m\u001b[43m)\u001b[49m\n",
      "File \u001b[1;32mc:\\Users\\Admin\\anaconda3\\envs\\tensorgpu\\lib\\site-packages\\keras\\utils\\traceback_utils.py:70\u001b[0m, in \u001b[0;36mfilter_traceback.<locals>.error_handler\u001b[1;34m(*args, **kwargs)\u001b[0m\n\u001b[0;32m     67\u001b[0m     filtered_tb \u001b[38;5;241m=\u001b[39m _process_traceback_frames(e\u001b[38;5;241m.\u001b[39m__traceback__)\n\u001b[0;32m     68\u001b[0m     \u001b[38;5;66;03m# To get the full stack trace, call:\u001b[39;00m\n\u001b[0;32m     69\u001b[0m     \u001b[38;5;66;03m# `tf.debugging.disable_traceback_filtering()`\u001b[39;00m\n\u001b[1;32m---> 70\u001b[0m     \u001b[38;5;28;01mraise\u001b[39;00m e\u001b[38;5;241m.\u001b[39mwith_traceback(filtered_tb) \u001b[38;5;28;01mfrom\u001b[39;00m\u001b[38;5;250m \u001b[39m\u001b[38;5;28;01mNone\u001b[39;00m\n\u001b[0;32m     71\u001b[0m \u001b[38;5;28;01mfinally\u001b[39;00m:\n\u001b[0;32m     72\u001b[0m     \u001b[38;5;28;01mdel\u001b[39;00m filtered_tb\n",
      "File \u001b[1;32mc:\\Users\\Admin\\anaconda3\\envs\\tensorgpu\\lib\\site-packages\\tensorflow\\python\\eager\\execute.py:54\u001b[0m, in \u001b[0;36mquick_execute\u001b[1;34m(op_name, num_outputs, inputs, attrs, ctx, name)\u001b[0m\n\u001b[0;32m     52\u001b[0m \u001b[38;5;28;01mtry\u001b[39;00m:\n\u001b[0;32m     53\u001b[0m   ctx\u001b[38;5;241m.\u001b[39mensure_initialized()\n\u001b[1;32m---> 54\u001b[0m   tensors \u001b[38;5;241m=\u001b[39m pywrap_tfe\u001b[38;5;241m.\u001b[39mTFE_Py_Execute(ctx\u001b[38;5;241m.\u001b[39m_handle, device_name, op_name,\n\u001b[0;32m     55\u001b[0m                                       inputs, attrs, num_outputs)\n\u001b[0;32m     56\u001b[0m \u001b[38;5;28;01mexcept\u001b[39;00m core\u001b[38;5;241m.\u001b[39m_NotOkStatusException \u001b[38;5;28;01mas\u001b[39;00m e:\n\u001b[0;32m     57\u001b[0m   \u001b[38;5;28;01mif\u001b[39;00m name \u001b[38;5;129;01mis\u001b[39;00m \u001b[38;5;129;01mnot\u001b[39;00m \u001b[38;5;28;01mNone\u001b[39;00m:\n",
      "\u001b[1;31mResourceExhaustedError\u001b[0m: Graph execution error:\n\nDetected at node 'gradient_tape/model_1/fc1/MatMul/MatMul_1' defined at (most recent call last):\n    File \"c:\\Users\\Admin\\anaconda3\\envs\\tensorgpu\\lib\\runpy.py\", line 196, in _run_module_as_main\n      return _run_code(code, main_globals, None,\n    File \"c:\\Users\\Admin\\anaconda3\\envs\\tensorgpu\\lib\\runpy.py\", line 86, in _run_code\n      exec(code, run_globals)\n    File \"c:\\Users\\Admin\\anaconda3\\envs\\tensorgpu\\lib\\site-packages\\ipykernel_launcher.py\", line 18, in <module>\n      app.launch_new_instance()\n    File \"c:\\Users\\Admin\\anaconda3\\envs\\tensorgpu\\lib\\site-packages\\traitlets\\config\\application.py\", line 1075, in launch_instance\n      app.start()\n    File \"c:\\Users\\Admin\\anaconda3\\envs\\tensorgpu\\lib\\site-packages\\ipykernel\\kernelapp.py\", line 739, in start\n      self.io_loop.start()\n    File \"c:\\Users\\Admin\\anaconda3\\envs\\tensorgpu\\lib\\site-packages\\tornado\\platform\\asyncio.py\", line 205, in start\n      self.asyncio_loop.run_forever()\n    File \"c:\\Users\\Admin\\anaconda3\\envs\\tensorgpu\\lib\\asyncio\\base_events.py\", line 603, in run_forever\n      self._run_once()\n    File \"c:\\Users\\Admin\\anaconda3\\envs\\tensorgpu\\lib\\asyncio\\base_events.py\", line 1909, in _run_once\n      handle._run()\n    File \"c:\\Users\\Admin\\anaconda3\\envs\\tensorgpu\\lib\\asyncio\\events.py\", line 80, in _run\n      self._context.run(self._callback, *self._args)\n    File \"c:\\Users\\Admin\\anaconda3\\envs\\tensorgpu\\lib\\site-packages\\ipykernel\\kernelbase.py\", line 545, in dispatch_queue\n      await self.process_one()\n    File \"c:\\Users\\Admin\\anaconda3\\envs\\tensorgpu\\lib\\site-packages\\ipykernel\\kernelbase.py\", line 534, in process_one\n      await dispatch(*args)\n    File \"c:\\Users\\Admin\\anaconda3\\envs\\tensorgpu\\lib\\site-packages\\ipykernel\\kernelbase.py\", line 437, in dispatch_shell\n      await result\n    File \"c:\\Users\\Admin\\anaconda3\\envs\\tensorgpu\\lib\\site-packages\\ipykernel\\ipkernel.py\", line 362, in execute_request\n      await super().execute_request(stream, ident, parent)\n    File \"c:\\Users\\Admin\\anaconda3\\envs\\tensorgpu\\lib\\site-packages\\ipykernel\\kernelbase.py\", line 778, in execute_request\n      reply_content = await reply_content\n    File \"c:\\Users\\Admin\\anaconda3\\envs\\tensorgpu\\lib\\site-packages\\ipykernel\\ipkernel.py\", line 449, in do_execute\n      res = shell.run_cell(\n    File \"c:\\Users\\Admin\\anaconda3\\envs\\tensorgpu\\lib\\site-packages\\ipykernel\\zmqshell.py\", line 549, in run_cell\n      return super().run_cell(*args, **kwargs)\n    File \"c:\\Users\\Admin\\anaconda3\\envs\\tensorgpu\\lib\\site-packages\\IPython\\core\\interactiveshell.py\", line 3075, in run_cell\n      result = self._run_cell(\n    File \"c:\\Users\\Admin\\anaconda3\\envs\\tensorgpu\\lib\\site-packages\\IPython\\core\\interactiveshell.py\", line 3130, in _run_cell\n      result = runner(coro)\n    File \"c:\\Users\\Admin\\anaconda3\\envs\\tensorgpu\\lib\\site-packages\\IPython\\core\\async_helpers.py\", line 128, in _pseudo_sync_runner\n      coro.send(None)\n    File \"c:\\Users\\Admin\\anaconda3\\envs\\tensorgpu\\lib\\site-packages\\IPython\\core\\interactiveshell.py\", line 3334, in run_cell_async\n      has_raised = await self.run_ast_nodes(code_ast.body, cell_name,\n    File \"c:\\Users\\Admin\\anaconda3\\envs\\tensorgpu\\lib\\site-packages\\IPython\\core\\interactiveshell.py\", line 3517, in run_ast_nodes\n      if await self.run_code(code, result, async_=asy):\n    File \"c:\\Users\\Admin\\anaconda3\\envs\\tensorgpu\\lib\\site-packages\\IPython\\core\\interactiveshell.py\", line 3577, in run_code\n      exec(code_obj, self.user_global_ns, self.user_ns)\n    File \"C:\\Users\\Admin\\AppData\\Local\\Temp\\ipykernel_10056\\963183320.py\", line 1, in <module>\n      history = model_final.fit(X_train[0:3000], y_train[0:3000], validation_data=(X_test[0:3000], y_test[0:3000]), epochs=10, batch_size=8)\n    File \"c:\\Users\\Admin\\anaconda3\\envs\\tensorgpu\\lib\\site-packages\\keras\\utils\\traceback_utils.py\", line 65, in error_handler\n      return fn(*args, **kwargs)\n    File \"c:\\Users\\Admin\\anaconda3\\envs\\tensorgpu\\lib\\site-packages\\keras\\engine\\training.py\", line 1564, in fit\n      tmp_logs = self.train_function(iterator)\n    File \"c:\\Users\\Admin\\anaconda3\\envs\\tensorgpu\\lib\\site-packages\\keras\\engine\\training.py\", line 1160, in train_function\n      return step_function(self, iterator)\n    File \"c:\\Users\\Admin\\anaconda3\\envs\\tensorgpu\\lib\\site-packages\\keras\\engine\\training.py\", line 1146, in step_function\n      outputs = model.distribute_strategy.run(run_step, args=(data,))\n    File \"c:\\Users\\Admin\\anaconda3\\envs\\tensorgpu\\lib\\site-packages\\keras\\engine\\training.py\", line 1135, in run_step\n      outputs = model.train_step(data)\n    File \"c:\\Users\\Admin\\anaconda3\\envs\\tensorgpu\\lib\\site-packages\\keras\\engine\\training.py\", line 997, in train_step\n      self.optimizer.minimize(loss, self.trainable_variables, tape=tape)\n    File \"c:\\Users\\Admin\\anaconda3\\envs\\tensorgpu\\lib\\site-packages\\keras\\optimizers\\optimizer_v2\\optimizer_v2.py\", line 576, in minimize\n      grads_and_vars = self._compute_gradients(\n    File \"c:\\Users\\Admin\\anaconda3\\envs\\tensorgpu\\lib\\site-packages\\keras\\optimizers\\optimizer_v2\\optimizer_v2.py\", line 634, in _compute_gradients\n      grads_and_vars = self._get_gradients(\n    File \"c:\\Users\\Admin\\anaconda3\\envs\\tensorgpu\\lib\\site-packages\\keras\\optimizers\\optimizer_v2\\optimizer_v2.py\", line 510, in _get_gradients\n      grads = tape.gradient(loss, var_list, grad_loss)\nNode: 'gradient_tape/model_1/fc1/MatMul/MatMul_1'\nOOM when allocating tensor with shape[25088,4096] and type float on /job:localhost/replica:0/task:0/device:GPU:0 by allocator GPU_0_bfc\n\t [[{{node gradient_tape/model_1/fc1/MatMul/MatMul_1}}]]\nHint: If you want to see a list of allocated tensors when OOM happens, add report_tensor_allocations_upon_oom to RunOptions for current allocation info. This isn't available when running in Eager mode.\n [Op:__inference_train_function_26588]"
     ]
    }
   ],
   "source": [
    "history = model_final.fit(X_train[0:3000], y_train[0:3000], validation_data=(X_test[0:3000], y_test[0:3000]), epochs=10, batch_size=8)"
   ]
  },
  {
   "cell_type": "code",
   "execution_count": null,
   "metadata": {},
   "outputs": [
    {
     "data": {
      "image/png": "[encoded data removed]",
      "text/plain": [
       "<Figure size 640x480 with 1 Axes>"
      ]
     },
     "metadata": {},
     "output_type": "display_data"
    }
   ],
   "source": [
    "fig,ax = plt.subplots(1,1)\n",
    "ax.set_xlabel('epoch') ; ax.set_ylabel('Categorical Crossentropy Loss')\n",
    "x = list(range(1,10+1))\n",
    "vy = history.history['val_loss']\n",
    "ty = history.history['loss']\n",
    "ax.plot(x, vy, 'b', label=\"Validation Loss\")\n",
    "ax.plot(x, ty, 'r', label=\"Train Loss\")\n",
    "plt.legend()\n",
    "plt.grid()\n",
    "plt.show()"
   ]
  },
  {
   "cell_type": "code",
   "execution_count": null,
   "metadata": {},
   "outputs": [],
   "source": []
  }
 ],
 "metadata": {
  "kernelspec": {
   "display_name": "tensorgpu",
   "language": "python",
   "name": "python3"
  },
  "language_info": {
   "codemirror_mode": {
    "name": "ipython",
    "version": 3
   },
   "file_extension": ".py",
   "mimetype": "text/x-python",
   "name": "python",
   "nbconvert_exporter": "python",
   "pygments_lexer": "ipython3",
   "version": "3.10.16"
  }
 },
 "nbformat": 4,
 "nbformat_minor": 2
}
